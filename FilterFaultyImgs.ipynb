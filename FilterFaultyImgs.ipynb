{
  "cells": [
    {
      "cell_type": "markdown",
      "metadata": {
        "id": "view-in-github",
        "colab_type": "text"
      },
      "source": [
        "<a href=\"https://colab.research.google.com/github/OCCI-Staar/FilterOutBadDroneImgs/blob/main/FilterFaultyImgs.ipynb\" target=\"_parent\"><img src=\"https://colab.research.google.com/assets/colab-badge.svg\" alt=\"Open In Colab\"/></a>"
      ]
    },
    {
      "cell_type": "markdown",
      "metadata": {
        "id": "LCTJW7JHmKKl"
      },
      "source": [
        "# Import variables"
      ]
    },
    {
      "cell_type": "code",
      "execution_count": 6,
      "metadata": {
        "colab": {
          "base_uri": "https://localhost:8080/"
        },
        "id": "lsw22GLSmMvf",
        "outputId": "476fbf56-82f7-4d00-a555-87b0ce25f839"
      },
      "outputs": [
        {
          "output_type": "stream",
          "name": "stdout",
          "text": [
            "Requirement already satisfied: geetools===0.6.11 in /usr/local/lib/python3.10/dist-packages (0.6.11)\n",
            "Requirement already satisfied: requests in /usr/local/lib/python3.10/dist-packages (from geetools===0.6.11) (2.31.0)\n",
            "Requirement already satisfied: pyshp in /usr/local/lib/python3.10/dist-packages (from geetools===0.6.11) (2.3.1)\n",
            "Requirement already satisfied: pandas in /usr/local/lib/python3.10/dist-packages (from geetools===0.6.11) (2.0.3)\n",
            "Requirement already satisfied: python-dateutil>=2.8.2 in /usr/local/lib/python3.10/dist-packages (from pandas->geetools===0.6.11) (2.8.2)\n",
            "Requirement already satisfied: pytz>=2020.1 in /usr/local/lib/python3.10/dist-packages (from pandas->geetools===0.6.11) (2023.4)\n",
            "Requirement already satisfied: tzdata>=2022.1 in /usr/local/lib/python3.10/dist-packages (from pandas->geetools===0.6.11) (2024.1)\n",
            "Requirement already satisfied: numpy>=1.21.0 in /usr/local/lib/python3.10/dist-packages (from pandas->geetools===0.6.11) (1.25.2)\n",
            "Requirement already satisfied: charset-normalizer<4,>=2 in /usr/local/lib/python3.10/dist-packages (from requests->geetools===0.6.11) (3.3.2)\n",
            "Requirement already satisfied: idna<4,>=2.5 in /usr/local/lib/python3.10/dist-packages (from requests->geetools===0.6.11) (3.7)\n",
            "Requirement already satisfied: urllib3<3,>=1.21.1 in /usr/local/lib/python3.10/dist-packages (from requests->geetools===0.6.11) (2.0.7)\n",
            "Requirement already satisfied: certifi>=2017.4.17 in /usr/local/lib/python3.10/dist-packages (from requests->geetools===0.6.11) (2024.7.4)\n",
            "Requirement already satisfied: six>=1.5 in /usr/local/lib/python3.10/dist-packages (from python-dateutil>=2.8.2->pandas->geetools===0.6.11) (1.16.0)\n",
            "Drive already mounted at /content/drive; to attempt to forcibly remount, call drive.mount(\"/content/drive\", force_remount=True).\n",
            "Source directory '/content/drive/My Drive/20240717_MS_M300/BLUE' does not exist.\n"
          ]
        }
      ],
      "source": [
        "!pip install geetools===0.6.11\n",
        "import os\n",
        "import shutil\n",
        "from geetools import batch\n",
        "from google.colab import files\n",
        "from google.colab import drive\n",
        "drive.mount('/content/drive')\n"
      ]
    },
    {
      "cell_type": "markdown",
      "source": [
        "# Check drives and Count files"
      ],
      "metadata": {
        "id": "m3in5SbQjxYr"
      }
    },
    {
      "cell_type": "code",
      "source": [
        "# Source and destination directories\n",
        "source_directory = '/content/drive/My Drive/20240717_MS_M300/BLUE'  # Adjust the path as needed\n",
        "destination_directory = '/content/drive/My Drive/20240717_MS_M300_Cleaned/BLUE'  # Adjust the path as needed\n",
        "def count_tiff_images(source_directory):\n",
        "    tiff_extensions = ['.tiff', '.tif']\n",
        "    tiff_count = 0\n",
        "\n",
        "    for root, dirs, files in os.walk(source_directory):\n",
        "        for file in files:\n",
        "            if any(file.lower().endswith(ext) for ext in tiff_extensions):\n",
        "                tiff_count += 1\n",
        "\n",
        "    return tiff_count\n",
        "\n",
        "\n",
        "if os.path.exists(source_directory):\n",
        "    num_tiff_images = count_tiff_images(source_directory)\n",
        "    print(f\"Number of TIFF images in {source_directory}: {num_tiff_images}\")\n",
        "else:\n",
        "    print(f\"Source directory '{source_directory}' does not exist.\")"
      ],
      "metadata": {
        "id": "PQb7U1WJj0AR"
      },
      "execution_count": null,
      "outputs": []
    },
    {
      "cell_type": "markdown",
      "metadata": {
        "id": "t-gxsWBvoyUn"
      },
      "source": [
        "#Error List (380)\n",
        "\n",
        "\n"
      ]
    },
    {
      "cell_type": "code",
      "execution_count": 3,
      "metadata": {
        "colab": {
          "base_uri": "https://localhost:8080/"
        },
        "id": "dBo0C6nho1QM",
        "outputId": "b3bf68f5-d1f3-445e-9eb6-9c9339d6d5b9"
      },
      "outputs": [
        {
          "output_type": "stream",
          "name": "stdout",
          "text": [
            "380\n"
          ]
        }
      ],
      "source": [
        "error_images = [ \"IMG_0953_8.tif\", \"IMG_0333_8.tif\", \"IMG_0505_8.tif\", \"IMG_1267_8.tif\", \"IMG_0804_8.tif\", \"IMG_0200_8.tif\",\n",
        "                \"IMG_0506_8.tif\", \"IMG_0805_8.tif\", \"IMG_0952_8.tif\", \"IMG_0201_8.tif\", \"IMG_0206_8.tif\", \"IMG_0202_8.tif\",\n",
        "                 \"IMG_0678_8.tif\", \"IMG_0489_8.tif\", \"IMG_0788_8.tif\", \"IMG_0207_8.tif\", \"IMG_1184_8.tif\", \"IMG_0203_8.tif\",\n",
        "                 \"IMG_0204_8.tif\", \"IMG_0676_8.tif\", \"IMG_0205_8.tif\", \"IMG_0208_8.tif\", \"IMG_0209_8.tif\", \"IMG_0210_8.tif\",\n",
        "                 \"IMG_0784_8.tif\", \"IMG_1192_8.tif\", \"IMG_0211_8.tif\", \"IMG_0824_8.tif\", \"IMG_0390_8.tif\", \"IMG_0212_8.tif\", \"IMG_0495_8.tif\", \"IMG_0825_8.tif\",\n",
        "                \"IMG_0213_8.tif\", \"IMG_0694_8.tif\", \"IMG_0214_8.tif\", \"IMG_0215_8.tif\", \"IMG_0518_8.tif\", \"IMG_0696_8.tif\",\n",
        "                 \"IMG_0216_8.tif\", \"IMG_0217_8.tif\", \"IMG_0078_8.tif\", \"IMG_0524_8.tif\", \"IMG_0830_8.tif\", \"IMG_0218_8.tif\",\n",
        "                 \"IMG_0077_8.tif\", \"IMG_0831_8.tif\", \"IMG_0219_8.tif\", \"IMG_0253_8.tif\", \"IMG_0816_8.tif\", \"IMG_0398_8.tif\", \"IMG_0220_8.tif\",\n",
        "                 \"IMG_0629_8.tif\", \"IMG_0221_8.tif\", \"IMG_0523_8.tif\", \"IMG_0931_8.tif\", \"IMG_0637_8.tif\", \"IMG_0985_8.tif\", \"IMG_0365_8.tif\",\n",
        "                 \"IMG_0255_8.tif\", \"IMG_0630_8.tif\", \"IMG_0222_8.tif\", \"IMG_0638_8.tif\", \"IMG_0254_8.tif\", \"IMG_1298_8.tif\", \"IMG_0631_8.tif\",\n",
        "                 \"IMG_0223_8.tif\", \"IMG_0639_8.tif\", \"IMG_0257_8.tif\", \"IMG_0224_8.tif\", \"IMG_1300_8.tif\", \"IMG_0876_8.tif\", \"IMG_0256_8.tif\",\n",
        "                 \"IMG_0225_8.tif\", \"IMG_0327_8.tif\", \"IMG_0172_8.tif\", \"IMG_0634_8.tif\", \"IMG_0633_8.tif\", \"IMG_0259_8.tif\", \"IMG_1295_8.tif\",\n",
        "                 \"IMG_0328_8.tif\", \"IMG_0070_8.tif\", \"IMG_0516_8.tif\", \"IMG_0226_8.tif\", \"IMG_1177_8.tif\", \"IMG_0258_8.tif\", \"IMG_1294_8.tif\",\n",
        "                 \"IMG_0635_8.tif\", \"IMG_0329_8.tif\", \"IMG_0988_8.tif\", \"IMG_0517_8.tif\", \"IMG_1176_8.tif\", \"IMG_0069_8.tif\", \"IMG_0823_8.tif\",\n",
        "                 \"IMG_0227_8.tif\", \"IMG_0228_8.tif\", \"IMG_0653_8.tif\", \"IMG_0229_8.tif\", \"IMG_0253_8.tif\", \"IMG_1111_8.tif\", \"IMG_0624_8.tif\",\n",
        "                 \"IMG_0654_8.tif\", \"IMG_0230_8.tif\", \"IMG_0340_8.tif\", \"IMG_0678_8.tif\", \"IMG_1110_8.tif\", \"IMG_0537_8.tif\", \"IMG_0364_8.tif\",\n",
        "                 \"IMG_0851_8.tif\", \"IMG_0231_8.tif\", \"IMG_0232_8.tif\", \"IMG_0233_8.tif\", \"IMG_0234_8.tif\", \"IMG_0517_8.tif\", \"IMG_1216_8.tif\",\n",
        "                 \"IMG_0235_8.tif\", \"IMG_0236_8.tif\", \"IMG_0708_8.tif\", \"IMG_0539_8.tif\", \"IMG_0237_8.tif\", \"IMG_0371_8.tif\", \"IMG_0842_8.tif\",\n",
        "                 \"IMG_0238_8.tif\", \"IMG_0710_8.tif\", \"IMG_0372_8.tif\", \"IMG_0843_8.tif\", \"IMG_0239_8.tif\", \"IMG_0591_8.tif\", \"IMG_0240_8.tif\",\n",
        "                 \"IMG_0590_8.tif\", \"IMG_0241_8.tif\", \"IMG_0242_8.tif\", \"IMG_0243_8.tif\", \"IMG_0856_8.tif\", \"IMG_0244_8.tif\", \"IMG_0857_8.tif\",\n",
        "                 \"IMG_0609_8.tif\", \"IMG_0245_8.tif\", \"IMG_0246_8.tif\", \"IMG_0247_8.tif\", \"IMG_0550_8.tif\", \"IMG_0248_8.tif\", \"IMG_0249_8.tif\",\n",
        "                 \"IMG_0250_8.tif\", \"IMG_1201_8.tif\", \"IMG_0589_8.tif\", \"IMG_0862_8.tif\", \"IMG_0110_8.tif\", \"IMG_0556_8.tif\", \"IMG_0109_8.tif\",\n",
        "                 \"IMG_0863_8.tif\", \"IMG_0251_8.tif\", \"IMG_1256_8.tif\", \"IMG_0848_8.tif\", \"IMG_0252_8.tif\", \"IMG_1296_8.tif\", \"IMG_1127_8.tif\",\n",
        "                 \"IMG_0636_8.tif\", \"IMG_0260_8.tif\", \"IMG_0685_8.tif\", \"IMG_0261_8.tif\", \"IMG_0686_8.tif\", \"IMG_0262_8.tif\", \"IMG_0372_8.tif\",\n",
        "                 \"IMG_0569_8.tif\", \"IMG_0883_8.tif\", \"IMG_0645_8.tif\", \"IMG_1352_8.tif\", \"IMG_0263_8.tif\", \"IMG_0566_8.tif\", \"IMG_0868_8.tif\",\n",
        "                 \"IMG_0264_8.tif\", \"IMG_0869_8.tif\", \"IMG_0647_8.tif\", \"IMG_0265_8.tif\", \"IMG_0642_8.tif\", \"IMG_0266_8.tif\", \"IMG_0335_8.tif\",\n",
        "                 \"IMG_0267_8.tif\", \"IMG_1135_8.tif\", \"IMG_0644_8.tif\", \"IMG_0268_8.tif\", \"IMG_0571_8.tif\", \"IMG_0269_8.tif\", \"IMG_0560_8.tif\",\n",
        "                 \"IMG_0340_8.tif\", \"IMG_1282_8.tif\", \"IMG_0874_8.tif\", \"IMG_0246_8.tif\", \"IMG_0270_8.tif\", \"IMG_0245_8.tif\", \"IMG_0561_8.tif\",\n",
        "                 \"IMG_1283_8.tif\", \"IMG_0875_8.tif\", \"IMG_0653_8.tif\", \"IMG_1344_8.tif\", \"IMG_0271_8.tif\", \"IMG_1284_8.tif\", \"IMG_0723_8.tif\",\n",
        "                 \"IMG_0656_8.tif\", \"IMG_0272_8.tif\", \"IMG_0549_8.tif\", \"IMG_0273_8.tif\", \"IMG_0828_8.tif\", \"IMG_0650_8.tif\", \"IMG_0242_8.tif\",\n",
        "                 \"IMG_0274_8.tif\", \"IMG_0343_8.tif\", \"IMG_1348_8.tif\", \"IMG_0275_8.tif\", \"IMG_1280_8.tif\", \"IMG_0719_8.tif\", \"IMG_0888_8.tif\",\n",
        "                 \"IMG_0276_8.tif\", \"IMG_1281_8.tif\", \"IMG_0889_8.tif\", \"IMG_0651_8.tif\", \"IMG_0277_8.tif\", \"IMG_0411_8.tif\", \"IMG_0278_8.tif\",\n",
        "                 \"IMG_1141_8.tif\", \"IMG_0279_8.tif\", \"IMG_0657_8.tif\", \"IMG_1065_8.tif\", \"IMG_0256_8.tif\", \"IMG_0280_8.tif\", \"IMG_0656_8.tif\",\n",
        "                 \"IMG_1064_8.tif\", \"IMG_1366_8.tif\", \"IMG_0958_8.tif\", \"IMG_0557_8.tif\", \"IMG_0281_8.tif\", \"IMG_0588_8.tif\", \"IMG_0353_8.tif\",\n",
        "                 \"IMG_1012_8.tif\", \"IMG_0415_8.tif\", \"IMG_0894_8.tif\", \"IMG_0282_8.tif\", \"IMG_0416_8.tif\", \"IMG_1319_8.tif\", \"IMG_0352_8.tif\",\n",
        "                 \"IMG_0895_8.tif\", \"IMG_0283_8.tif\", \"IMG_0252_8.tif\", \"IMG_0284_8.tif\", \"IMG_0661_8.tif\", \"IMG_0555_8.tif\", \"IMG_0963_8.tif\",\n",
        "                 \"IMG_0693_8.tif\", \"IMG_0285_8.tif\", \"IMG_0587_8.tif\", \"IMG_0694_8.tif\", \"IMG_0286_8.tif\", \"IMG_1149_8.tif\", \"IMG_1017_8.tif\",\n",
        "                 \"IMG_0397_8.tif\", \"IMG_0287_8.tif\", \"IMG_0908_8.tif\", \"IMG_0288_8.tif\", \"IMG_0565_8.tif\", \"IMG_0289_8.tif\", \"IMG_0290_8.tif\",\n",
        "                 \"IMG_0291_8.tif\", \"IMG_0405_8.tif\", \"IMG_1159_8.tif\", \"IMG_0292_8.tif\", \"IMG_0293_8.tif\", \"IMG_0404_8.tif\", \"IMG_0294_8.tif\",\n",
        "                 \"IMG_0601_8.tif\", \"IMG_1307_8.tif\", \"IMG_0915_8.tif\", \"IMG_0295_8.tif\", \"IMG_1049_8.tif\", \"IMG_0574_8.tif\", \"IMG_0598_8.tif\",\n",
        "                 \"IMG_0900_8.tif\", \"IMG_0296_8.tif\", \"IMG_0901_8.tif\", \"IMG_1048_8.tif\", \"IMG_0573_8.tif\", \"IMG_0297_8.tif\", \"IMG_0298_8.tif\",\n",
        "                 \"IMG_0008_8.tif\", \"IMG_0997_8.tif\", \"IMG_0540_8.tif\", \"IMG_0299_8.tif\", \"IMG_0846_8.tif\", \"IMG_0413_8.tif\", \"IMG_1167_8.tif\",\n",
        "                 \"IMG_0300_8.tif\", \"IMG_0603_8.tif\", \"IMG_0301_8.tif\", \"IMG_0568_8.tif\", \"IMG_0592_8.tif\", \"IMG_1000_8.tif\", \"IMG_1314_8.tif\",\n",
        "                 \"IMG_0906_8.tif\", \"IMG_0302_8.tif\", \"IMG_0593_8.tif\", \"IMG_1001_8.tif\", \"IMG_1315_8.tif\", \"IMG_0907_8.tif\", \"IMG_1376_8.tif\",\n",
        "                 \"IMG_0303_8.tif\", \"IMG_0588_8.tif\", \"IMG_0626_8.tif\", \"IMG_0304_8.tif\", \"IMG_0627_8.tif\", \"IMG_0305_8.tif\", \"IMG_0583_8.tif\",\n",
        "                 \"IMG_0306_8.tif\", \"IMG_0590_8.tif\", \"IMG_0412_8.tif\", \"IMG_0307_8.tif\", \"IMG_1079_8.tif\",\n",
        "                 \"IMG_0622_8.tif\", \"IMG_0308_8.tif\", \"IMG_0623_8.tif\", \"IMG_0309_8.tif\", \"IMG_0620_8.tif\", \"IMG_1044_8.tif\", \"IMG_0938_8.tif\",\n",
        "                 \"IMG_0310_8.tif\", \"IMG_0417_8.tif\", \"IMG_1076_8.tif\", \"IMG_0311_8.tif\", \"IMG_0970_8.tif\", \"IMG_0596_8.tif\", \"IMG_0618_8.tif\",\n",
        "                 \"IMG_1026_8.tif\", \"IMG_0312_8.tif\", \"IMG_0619_8.tif\", \"IMG_1027_8.tif\", \"IMG_0313_8.tif\", \"IMG_0934_8.tif\", \"IMG_0314_8.tif\",\n",
        "                 \"IMG_0315_8.tif\", \"IMG_1197_8.tif\", \"IMG_0316_8.tif\", \"IMG_0317_8.tif\", \"IMG_0725_8.tif\", \"IMG_0979_8.tif\", \"IMG_0424_8.tif\",\n",
        "                 \"IMG_0318_8.tif\", \"IMG_0726_8.tif\", \"IMG_0425_8.tif\", \"IMG_1084_8.tif\", \"IMG_0319_8.tif\", \"IMG_0978_8.tif\", \"IMG_1287_8.tif\",\n",
        "                 \"IMG_0320_8.tif\", \"IMG_0321_8.tif\", \"IMG_0980_8.tif\", \"IMG_0322_8.tif\", \"IMG_0323_8.tif\", \"IMG_0974_8.tif\", \"IMG_1291_8.tif\", \"IMG_0324_8.tif\", \"IMG_0497_8.tif\",\n",
        "                 \"IMG_0325_8.tif\", \"IMG_0976_8.tif\", \"IMG_0669_8.tif\", \"IMG_0326_8.tif\", \"IMG_1028_8.tif\", \"IMG_0359_8.tif\", \"IMG_0326_8.tif\", \"IMG_0668_8.tif\", \"IMG_0562_8.tif\",\n",
        "                 \"IMG_0327_8.tif\", \"IMG_0436_8.tif\", \"IMG_0330_8.tif\", \"IMG_0437_8.tif\", \"IMG_0331_8.tif\", \"IMG_0609_8.tif\", \"IMG_0332_8.tif\", \"IMG_0505_8.tif\", \"IMG_0334_8.tif\",\n",
        "                 \"IMG_0504_8.tif\", \"IMG_0335_8.tif\", \"IMG_0658_8.tif\" ]\n",
        "\n",
        "print(len(error_images))"
      ]
    },
    {
      "cell_type": "markdown",
      "source": [
        "# Copy non-error images to a new directory (keeping old one safe)"
      ],
      "metadata": {
        "id": "R4sTFaWaeEEy"
      }
    },
    {
      "cell_type": "code",
      "source": [
        "def copy_valid_images(source_directory, destination_directory, error_images):\n",
        "    if not os.path.exists(destination_directory):\n",
        "        os.makedirs(destination_directory)\n",
        "\n",
        "    folder_counts = {}\n",
        "\n",
        "    for root, dirs, files in os.walk(source_directory):\n",
        "        for file in files:\n",
        "            if file not in error_images:\n",
        "                source_file_path = os.path.join(root, file)\n",
        "                relative_path = os.path.relpath(root, source_directory)\n",
        "                destination_dir = os.path.join(destination_directory, relative_path)\n",
        "\n",
        "                if not os.path.exists(destination_dir):\n",
        "                    os.makedirs(destination_dir)\n",
        "\n",
        "                destination_file_path = os.path.join(destination_dir, file)\n",
        "                shutil.copy2(source_file_path, destination_file_path)\n",
        "\n",
        "                # Update count for the destination directory\n",
        "                folder_counts[relative_path] = folder_counts.get(relative_path, 0) + 1\n",
        "      # Print the counts\n",
        "    for folder, count in folder_counts.items():\n",
        "        print(f\"Copied {count} images to {os.path.join(destination_directory, folder)}\")\n",
        "\n"
      ],
      "metadata": {
        "id": "pnqpgViReNMv"
      },
      "execution_count": 4,
      "outputs": []
    },
    {
      "cell_type": "markdown",
      "source": [],
      "metadata": {
        "id": "mSdKKlH6enXw"
      }
    },
    {
      "cell_type": "markdown",
      "metadata": {
        "id": "-db_-2EVwGrm"
      },
      "source": [
        "# Copy to new directory"
      ]
    },
    {
      "cell_type": "code",
      "execution_count": 5,
      "metadata": {
        "id": "P-e6AitVwJxO",
        "colab": {
          "base_uri": "https://localhost:8080/"
        },
        "outputId": "bae266b5-3c09-4187-ec39-ce8e06f2cd81"
      },
      "outputs": [
        {
          "output_type": "stream",
          "name": "stdout",
          "text": [
            "Valid images have been copied to /content/drive/My Drive/20240717_MS_M300_Cleaned/BLUE\n"
          ]
        }
      ],
      "source": [
        "# Copy valid images to the new directory\n",
        "copy_valid_images(source_directory, destination_directory, error_images)\n",
        "\n",
        "print(f\"Valid images have been copied to {destination_directory}\")\n"
      ]
    }
  ],
  "metadata": {
    "colab": {
      "collapsed_sections": [
        "t-gxsWBvoyUn"
      ],
      "provenance": [],
      "toc_visible": true,
      "authorship_tag": "ABX9TyO7QrcLenOHw3bM6HCXOp8F",
      "include_colab_link": true
    },
    "kernelspec": {
      "display_name": "Python 3",
      "name": "python3"
    },
    "language_info": {
      "name": "python"
    }
  },
  "nbformat": 4,
  "nbformat_minor": 0
}